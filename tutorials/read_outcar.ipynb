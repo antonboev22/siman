{
 "cells": [
  {
   "cell_type": "code",
   "execution_count": 1,
   "metadata": {},
   "outputs": [],
   "source": [
    "from siman.calculators.vasp import CalculationVasp"
   ]
  },
  {
   "cell_type": "code",
   "execution_count": 2,
   "metadata": {},
   "outputs": [],
   "source": [
    "\n"
   ]
  },
  {
   "cell_type": "code",
   "execution_count": 3,
   "metadata": {},
   "outputs": [
    {
     "name": "stdout",
     "output_type": "stream",
     "text": [
      "-- Attention!, No CONTCAR: in/test_CONTCAR . I use data from outcar \n",
      "\n",
      "-- Attention!, No CONTCAR: in/test_CONTCAR . I use data from outcar \n",
      "\n",
      "--                           |  energy(eV)|    Vector lenghts (A)   | Stresses (MPa)     | N MD, N SCF    \n",
      "\n",
      "\n",
      "Max. F. tot  (meV/A) =  [54] \n",
      "\n",
      "-- db['noname']                  |noname|  -71.2875  |5.01, 5.01, 5.50| -4828,-4828,-4677  |  15,10,150    \n"
     ]
    }
   ],
   "source": [
    "cl = CalculationVasp(output = 'in/test_OUTCAR')\n",
    "# cl.cluster = {}\n",
    "# cl.cluster['address'] = ''\n",
    "cl.read_results(show = 'fo')\n",
    "cl.res(show = 'fo')"
   ]
  },
  {
   "cell_type": "code",
   "execution_count": null,
   "metadata": {},
   "outputs": [],
   "source": []
  }
 ],
 "metadata": {
  "kernelspec": {
   "display_name": "Python 3",
   "language": "python",
   "name": "python3"
  },
  "language_info": {
   "codemirror_mode": {
    "name": "ipython",
    "version": 3
   },
   "file_extension": ".py",
   "mimetype": "text/x-python",
   "name": "python",
   "nbconvert_exporter": "python",
   "pygments_lexer": "ipython3",
   "version": "3.8.5"
  }
 },
 "nbformat": 4,
 "nbformat_minor": 4
}

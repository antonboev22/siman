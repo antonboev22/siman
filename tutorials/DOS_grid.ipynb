{
 "cells": [
  {
   "cell_type": "markdown",
   "metadata": {},
   "source": [
    "The tutorial shows how to plot grids with plot_dos() function"
   ]
  },
  {
   "cell_type": "code",
   "execution_count": null,
   "metadata": {},
   "outputs": [],
   "source": [
    "    if 1:\n",
    "        import matplotlib as mpl\n",
    "\n",
    "        mpl.rc('font',family='Arial')\n",
    "\n",
    "        total = 3*1\n",
    "        letters = ['(a)', '(b)', '(c)', '(d)']*10\n",
    "        font = 8\n",
    "        fig, axs = plt.subplots(total,1,figsize=(6,total*3))    \n",
    "        fig.text(0.03, 0.5, 'PDOS (states/atom/eV)', size = font*1.8, ha='center', va='center', rotation='vertical')\n",
    "    \n",
    "        i = 0\n",
    "        first = 0\n",
    "        last = 0\n",
    "        hide_xlabels = 1\n",
    "        xlabel = None\n",
    "        ylabel = None\n",
    "        # i_last = 1\n",
    "        for cl, iat in zip([RbVsd, KVsd, Vsd], [9, 57, 49]):\n",
    "        # for cl, iat in zip([RbVsd, KVsd, Vsd], [13, 61, 53]):\n",
    "\n",
    "            ax = axs[i]\n",
    "            letter = letters[i]\n",
    "            \n",
    "            if i == 0:\n",
    "                first = True\n",
    "                last = False\n",
    "            if i == total-1:\n",
    "                last = True\n",
    "                hide_xlabels = 0\n",
    "                xlabel = \"Energy (eV)\"\n",
    "\n",
    "\n",
    "\n",
    "            i+=1\n",
    "\n",
    "            plot_dos(cl,  iatom = iat,  \n",
    "            dostype = 'partial', orbitals = ['p6', 'd'], \n",
    "            neighbors = 4,\n",
    "            # labels = ['LiFePO4', 'LiFePO4 vac'],\n",
    "            show = 0, nsmooth = 40,\n",
    "            plot_param = {'dashes':(3,1), 'legend':1, 'fill':1, 'fontsize':font, 'legend_fontsize':font+3,\n",
    "            'first':first, 'last':last, 'ax':ax, 'pad':1, 'hide_xlabels':hide_xlabels, 'xlabel':xlabel, 'ylabel':ylabel,\n",
    "            'corner_letter':letter, 'fig_format':'pdf',\n",
    "            'linewidth':1.5, 'ylim':(-2,2), 'xlim':(-10,8) }, split_type = 'octa', plot_spin_pol = 1 )\n",
    "        "
   ]
  }
 ],
 "metadata": {
  "kernelspec": {
   "display_name": "Python 3",
   "language": "python",
   "name": "python3"
  },
  "language_info": {
   "codemirror_mode": {
    "name": "ipython",
    "version": 3
   },
   "file_extension": ".py",
   "mimetype": "text/x-python",
   "name": "python",
   "nbconvert_exporter": "python",
   "pygments_lexer": "ipython3",
   "version": "3.6.8"
  }
 },
 "nbformat": 4,
 "nbformat_minor": 2
}

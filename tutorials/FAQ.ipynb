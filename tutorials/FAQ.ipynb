{
 "metadata": {
  "name": "",
  "signature": "sha256:5d206311d106c5537fb7b176820f913e1db165d97d58018b9a030c4cf7d0eede"
 },
 "nbformat": 3,
 "nbformat_minor": 0,
 "worksheets": [
  {
   "cells": [
    {
     "cell_type": "heading",
     "level": 1,
     "metadata": {},
     "source": [
      "Reading OUTCAR"
     ]
    },
    {
     "cell_type": "heading",
     "level": 2,
     "metadata": {},
     "source": [
      "1. How to read unfinished OUTCAR?"
     ]
    },
    {
     "cell_type": "code",
     "collapsed": false,
     "input": [
      "res_loop(up = 'un') # read unfinished v.OUTCAR due to crash of vasp\n",
      "res_loop(up = 'un2') # read unfinished OUTCAR due to crash of job"
     ],
     "language": "python",
     "metadata": {},
     "outputs": []
    },
    {
     "cell_type": "heading",
     "level": 2,
     "metadata": {},
     "source": [
      "2. How to read xcart at each relaxation step?"
     ]
    },
    {
     "cell_type": "code",
     "collapsed": false,
     "input": [
      "cl = calc['O2', '1u', 1]\n",
      "cl.read_results(out_type = 'xcarts') #\n",
      "print(cl.xcart_list)"
     ],
     "language": "python",
     "metadata": {},
     "outputs": []
    },
    {
     "cell_type": "heading",
     "level": 2,
     "metadata": {},
     "source": [
      "3. How to show additional information?"
     ]
    },
    {
     "cell_type": "code",
     "collapsed": false,
     "input": [
      "res_loop(show = 'smag') # show sum of all magnetic moments (and augmentation part) at each relaxation step\n",
      "res_loop(show = 'conv') # show convergence at each MD step\n",
      "res_loop(show = 'en') # show energy vs max. force plot\n",
      "res_loop(show = 'path') # show path to calculation folder\n",
      "res_loop(show = 'pos') # write poscar for last structure\n",
      "cl.end.jmol() or cl.jmol() # run jmol and show the structure"
     ],
     "language": "python",
     "metadata": {},
     "outputs": []
    },
    {
     "cell_type": "heading",
     "level": 2,
     "metadata": {},
     "source": [
      "4. How to switch off check of job status on server"
     ]
    },
    {
     "cell_type": "code",
     "collapsed": false,
     "input": [
      "res_loop(check_job = 0)\n",
      "add_loop(check_job = 0)"
     ],
     "language": "python",
     "metadata": {},
     "outputs": []
    },
    {
     "cell_type": "heading",
     "level": 2,
     "metadata": {},
     "source": [
      "5. Main control parameters in project_conf.py"
     ]
    },
    {
     "cell_type": "code",
     "collapsed": false,
     "input": [
      "check_job = 0 or 1 # whether to check job status, set to 0 for slow connections"
     ],
     "language": "python",
     "metadata": {},
     "outputs": [],
     "prompt_number": 1
    },
    {
     "cell_type": "heading",
     "level": 2,
     "metadata": {},
     "source": [
      "How to fix specific atoms for selective dynamics?"
     ]
    },
    {
     "cell_type": "code",
     "collapsed": false,
     "input": [
      "st = st.fix_atoms([1,4,6])\n",
      "add('it', 'ise', 1, input_st = st) # will automatically detect fixed atoms and turn on selective dynamics "
     ],
     "language": "python",
     "metadata": {},
     "outputs": []
    },
    {
     "cell_type": "heading",
     "level": 2,
     "metadata": {},
     "source": [
      "How to write final structure into file? "
     ]
    },
    {
     "cell_type": "code",
     "collapsed": false,
     "input": [
      "st.write_poscar()\n",
      "st.write_cif()\n",
      "st.write_xyz()\n",
      "st.write_geometry() # siman custom .geo format"
     ],
     "language": "python",
     "metadata": {},
     "outputs": []
    },
    {
     "cell_type": "markdown",
     "metadata": {},
     "source": [
      "###How to check history of my submissions?\n",
      "Look in **history** file in your project folder.\n"
     ]
    },
    {
     "cell_type": "code",
     "collapsed": false,
     "input": [],
     "language": "python",
     "metadata": {},
     "outputs": []
    }
   ],
   "metadata": {}
  }
 ]
}
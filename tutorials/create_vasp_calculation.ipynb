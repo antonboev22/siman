{
 "metadata": {
  "name": "",
  "signature": "sha256:5040e4910d3d00c1ad2b52c49e6e6f373c2571a276074f16f0cf7ea7a57d4d2f"
 },
 "nbformat": 3,
 "nbformat_minor": 0,
 "worksheets": [
  {
   "cells": [
    {
     "cell_type": "markdown",
     "metadata": {},
     "source": [
      "### Instruction\n",
      "1. Prepare file with crystall structure in one of the following formats: cif, VASP, abinit\n",
      "2. Prepare file with input parameters (INCAR) or use pre-defined sets: 'static'\n",
      "3. Prepare POTCAR - potentials files\n",
      "4. To support cif files run in anaconda promt   *pip install pymatgen*; \n",
      "   To support fitting run in anaconda promt     *pip install ase*; for correct work of pip you may need to install visual studio from http://landinghub.visualstudio.com/visual-cpp-build-tools"
     ]
    },
    {
     "cell_type": "markdown",
     "metadata": {},
     "source": [
      "###Import libraries"
     ]
    },
    {
     "cell_type": "code",
     "collapsed": false,
     "input": [
      "import sys\n",
      "sys.path.extend(['/home/aksenov/Simulation_wrapper/siman', '/home/aksenov/Simulation_wrapper/SSHTools'])\n",
      "from SSHTools import SSHTools\n",
      "import header\n",
      "from calc_manage import add_loop, res_loop\n",
      "from database import write_database, read_database\n",
      "from set_functions import read_vasp_sets\n",
      "from calc_manage import smart_structure_read\n",
      "%matplotlib inline"
     ],
     "language": "python",
     "metadata": {},
     "outputs": [
      {
       "output_type": "stream",
       "stream": "stdout",
       "text": [
        "Some module is used separately; default_project_conf.py is used\n"
       ]
      }
     ],
     "prompt_number": 1
    },
    {
     "cell_type": "markdown",
     "metadata": {},
     "source": [
      "###Set configuration parameters"
     ]
    },
    {
     "cell_type": "code",
     "collapsed": false,
     "input": [
      "read_database()\n",
      "header.PATH2PROJECT    = 'topologic' # path to project relative to your home folder on cluster\n",
      "header.PATH2POTENTIALS = '/home/aksenov/scientific_projects/PAW_PBE_VASP' #path to VASP POTENTIALS\n",
      "header.varset['static'].potdir = {83:'Bi_pv', 34:'Se'} #subfolders with required potentials\n",
      "header.ssh_object = SSHTools()\n",
      "header.ssh_object.setup(user=\"aksenov\",host=\"10.30.16.62\",pkey=\"/home/aksenov/.ssh/id_rsa\")"
     ],
     "language": "python",
     "metadata": {},
     "outputs": [],
     "prompt_number": 11
    },
    {
     "cell_type": "markdown",
     "metadata": {},
     "source": [
      "###Run new calculation add_loop()\n",
      "The function will:\n",
      "1. Read crystall structure from Bi2Se3_mp-541837_computed.POSCAR\n",
      "2. Create all VASP files in folder 'Bi2Se3/Bi2Se3.static'\n",
      "3. Copy files to CEE cluster into 'topologic/Bi2Se3/Bi2Se3.static' folder\n",
      "4. Use run = 1 to submit the calculation"
     ]
    },
    {
     "cell_type": "code",
     "collapsed": false,
     "input": [
      "add_loop('Bi2Se3', 'static', 1, input_geo_file = 'Bi2Se3_mp-541837_computed.POSCAR', it_folder = 'Bi2Se3', run = 0)"
     ],
     "language": "python",
     "metadata": {},
     "outputs": [],
     "prompt_number": 2
    },
    {
     "cell_type": "markdown",
     "metadata": {},
     "source": [
      "or using structure explicitly"
     ]
    },
    {
     "cell_type": "code",
     "collapsed": false,
     "input": [
      "st = smart_structure_read(input_geo_file = 'Bi2Se3_mp-541837_computed.POSCAR')\n",
      "\n",
      "add_loop('Bi2Se3', 'static', 1, input_st = st, it_folder = 'Bi2Se3', run = 0)"
     ],
     "language": "python",
     "metadata": {},
     "outputs": []
    },
    {
     "cell_type": "markdown",
     "metadata": {},
     "source": [
      "###Read results res_loop()\n",
      "The function get OUTCAR files from server and parse them"
     ]
    },
    {
     "cell_type": "code",
     "collapsed": false,
     "input": [
      "res_loop('Bi2Se3', 'static', 1)"
     ],
     "language": "python",
     "metadata": {},
     "outputs": [
      {
       "output_type": "stream",
       "stream": "stdout",
       "text": [
        "-- name                          |  energy(eV)|    Vector lenghts (A)   | Stresses (MPa)     | N MD, N SCF    \n",
        "-- Bi2Se3.static.1               |  -20.1543  |    10.27;10.27;10.27    |  -680,-680,-657    |   1,13, 13    \n"
       ]
      },
      {
       "metadata": {},
       "output_type": "pyout",
       "prompt_number": 24,
       "text": [
        "(['Bi2Se3.static.1               |  -20.1543  |    10.27;10.27;10.27    |  -680,-680,-657    |   1,13, 13   '],\n",
        " [])"
       ]
      }
     ],
     "prompt_number": 24
    },
    {
     "cell_type": "markdown",
     "metadata": {},
     "source": [
      "###Look for your parameters and change them"
     ]
    },
    {
     "cell_type": "code",
     "collapsed": false,
     "input": [
      "header.varset['static'].printme()"
     ],
     "language": "python",
     "metadata": {},
     "outputs": [
      {
       "output_type": "stream",
       "stream": "stdout",
       "text": [
        "-- s.vasp_params['PREC']          = Normal  \n",
        "-- s.vasp_params['NELM']          = 50  \n",
        "-- s.vasp_params['KSPACING']      = 0.235  \n",
        "-- s.vasp_params['LSCALU']        = .FALSE.  \n",
        "-- s.vasp_params['NSW']           = 0  \n",
        "-- s.vasp_params['ISMEAR']        = 2  \n",
        "-- s.vasp_params['LREAL']         = Auto  \n",
        "-- s.vasp_params['ENAUG']         = 776.16  \n",
        "-- s.vasp_params['SIGMA']         = 0.2  \n",
        "-- s.vasp_params['NELMIN']        = 4  \n",
        "-- s.vasp_params['ALGO']          = Normal  \n",
        "-- s.vasp_params['NPAR']          = 1  \n",
        "-- s.vasp_params['LPLANE']        = .TRUE.  \n",
        "-- s.vasp_params['NSIM']          = 4  \n",
        "-- s.vasp_params['ENCUT']         = 441.0  \n",
        "-- s.vasp_params['ISIF']          = 2  \n",
        "-- s.vasp_params['EDIFFG']        = 0  \n",
        "-- s.vasp_params['IBRION']        = 1  \n",
        "-- s.vasp_params['KGAMMA']        = .TRUE.  \n",
        "-- s.vasp_params['MAXMIX']        = 40  \n",
        "-- s.vasp_params['ISTART']        = 0  \n",
        "-- s.vasp_params['EDIFF']         = 6e-06  \n",
        "-- POTDIR: {34: 'Se', 83: 'Bi_pv'} \n"
       ]
      }
     ],
     "prompt_number": 29
    },
    {
     "cell_type": "code",
     "collapsed": false,
     "input": [
      "read_vasp_sets([('ion_relax', 'static', {'ISIF':2, 'NSW':20, 'EDIFFG':-0.025}, 'override')]) #new set 'ion_relax' from 'static' with 'NSW' = 20\n",
      "print('NSW = ', header.varset['ion_relax'].vasp_params['NSW'])"
     ],
     "language": "python",
     "metadata": {},
     "outputs": [
      {
       "output_type": "stream",
       "stream": "stdout",
       "text": [
        "    \n",
        "    Attention! You have chosen to override set ion_relax\n",
        "     \n",
        "\n",
        "    Warning! You did not change  ISIF  in ion_relax set\n",
        "     \n",
        "\n",
        "NSW =  20\n"
       ]
      }
     ],
     "prompt_number": 21
    },
    {
     "cell_type": "code",
     "collapsed": false,
     "input": [
      "add_loop('Bi2Se3', 'ion_relax', 1, input_geo_file = 'Bi2Se3_mp-541837_computed.POSCAR', run = 1) # no need"
     ],
     "language": "python",
     "metadata": {},
     "outputs": [
      {
       "output_type": "stream",
       "stream": "stdout",
       "text": [
        "-- You provided the following geo file explicitly  Bi2Se3_mp-541837_computed.POSCAR ; Version of file does not matter, I use *curver*= 1 as a new version \n",
        "\n",
        "-- check_kpoints(): Kpoint   mesh is:  [8, 8, 8] \n",
        "\n",
        "-- check_kpoints(): The actual k-spacings are  [ 0.22  0.22  0.22] \n",
        "\n",
        "-- Attention! ngkpt =  [8, 8, 8]  is adopted from struct_des which you provided for it  Bi2Se3  and kspacing =  0.235 \n",
        "\n",
        "    \n",
        "    Calculation ('Bi2Se3', 'ion_relax', 1) successfully created\n",
        "    \n",
        "     \n",
        "\n"
       ]
      },
      {
       "output_type": "stream",
       "stream": "stdout",
       "text": [
        "    Submitted batch job 73576\n",
        "                 JOBID PARTITION     NAME     USER ST       TIME  NODES NODELIST(REASON)\n",
        "                 73576       AMG Bi2Se3.i  aksenov PD       0:00      1 (None) \n",
        "\n"
       ]
      },
      {
       "output_type": "stream",
       "stream": "stdout",
       "text": [
        "-- To read results use  res_loop('Bi2Se3', ['ion_relax'], [1], show = 'fo'  )     # , on 2016-11-24   ; possible options for show: fit, fo, fop, en, mag, magp, smag, maga, occ, occ1 \n",
        "\n"
       ]
      },
      {
       "metadata": {},
       "output_type": "pyout",
       "prompt_number": 17,
       "text": [
        "'Bi2Se3'"
       ]
      }
     ],
     "prompt_number": 17
    },
    {
     "cell_type": "markdown",
     "metadata": {},
     "source": [
      "###Calculate relaxation energy"
     ]
    },
    {
     "cell_type": "code",
     "collapsed": false,
     "input": [
      "calc = header.calc\n",
      "res_loop('Bi2Se3', 'ion_relax', 1)\n",
      "print('Relaxation energy = {:.6} meV'.format(1000*(calc['Bi2Se3','ion_relax', 1].energy_sigma0 - calc['Bi2Se3', 'static', 1].energy_sigma0)))"
     ],
     "language": "python",
     "metadata": {},
     "outputs": [
      {
       "output_type": "stream",
       "stream": "stdout",
       "text": [
        "-- name                          |  energy(eV)|    Vector lenghts (A)   | Stresses (MPa)     | N MD, N SCF    \n",
        "-- Bi2Se3.ion_relax.1            |  -20.1552  |    10.27;10.27;10.27    |  -521,-526,-367    |  20, 4, 89    \n",
        "Relaxation energy = -0.93545 meV\n"
       ]
      }
     ],
     "prompt_number": 28
    },
    {
     "cell_type": "markdown",
     "metadata": {},
     "source": [
      "###Optimize cell volume\n",
      "Make sure that ~/tools/fit_tool.py is on cluster;\n",
      "\n",
      "siman/cluster_tools/fit_tool.py  "
     ]
    },
    {
     "cell_type": "code",
     "collapsed": false,
     "input": [
      "add_loop('Bi2Se3', 'static', 1, calc_method = 'uniform_scale', scale_region = (-5, 5), run = 0)"
     ],
     "language": "python",
     "metadata": {},
     "outputs": [
      {
       "output_type": "stream",
       "stream": "stdout",
       "text": [
        "-- Preparing   uniform_scale  calculation ...  \n",
        "\n",
        "-- inherit_ngkpt(): the k-grid from Bi2Se3 was inherited to Bi2Se3.su \n",
        "\n",
        "-- Scale_region is (-5, 5) \n",
        "\n",
        "-- Warning! File ./Bi2Se3/Bi2Se3.su/Bi2Se3.su.auto_created_scaled_image.1.geo was replaced \n",
        "\n",
        "-- Warning! File ./Bi2Se3/Bi2Se3.su/Bi2Se3.su.auto_created_scaled_image.2.geo was replaced \n",
        "\n",
        "-- Warning! File ./Bi2Se3/Bi2Se3.su/Bi2Se3.su.auto_created_scaled_image.3.geo was replaced \n",
        "\n",
        "-- Warning! File ./Bi2Se3/Bi2Se3.su/Bi2Se3.su.auto_created_scaled_image.4.geo was replaced \n",
        "\n",
        "-- Warning! File ./Bi2Se3/Bi2Se3.su/Bi2Se3.su.auto_created_scaled_image.5.geo was replaced \n",
        "\n",
        "-- Warning! File ./Bi2Se3/Bi2Se3.su/Bi2Se3.su.auto_created_scaled_image.6.geo was replaced \n",
        "\n",
        "-- Warning! File ./Bi2Se3/Bi2Se3.su/Bi2Se3.su.auto_created_scaled_image.7.geo was replaced \n",
        "\n",
        "-- 7 uniform images have been created. \n",
        "\n",
        "-- check_kpoints(): Kpoint   mesh is:  [8, 8, 8] \n",
        "\n",
        "-- check_kpoints(): The actual k-spacings are  [ 0.23  0.23  0.23] \n",
        "\n",
        "    \n",
        "    Calculation ('Bi2Se3.su', 'static', 1) successfully created\n",
        "    \n",
        "     \n",
        "\n",
        "-- check_kpoints(): Kpoint   mesh is:  [8, 8, 8] \n",
        "\n",
        "-- check_kpoints(): The actual k-spacings are  [ 0.23  0.23  0.23] \n",
        "\n",
        "    \n",
        "    Calculation ('Bi2Se3.su', 'static', 2) successfully created\n",
        "    \n",
        "     \n",
        "\n",
        "-- check_kpoints(): Kpoint   mesh is:  [8, 8, 8] \n",
        "\n",
        "-- check_kpoints(): The actual k-spacings are  [ 0.22  0.22  0.22] \n",
        "\n"
       ]
      },
      {
       "output_type": "stream",
       "stream": "stdout",
       "text": [
        "    \n",
        "    Calculation ('Bi2Se3.su', 'static', 3) successfully created\n",
        "    \n",
        "     \n",
        "\n",
        "-- check_kpoints(): Kpoint   mesh is:  [8, 8, 8] \n",
        "\n",
        "-- check_kpoints(): The actual k-spacings are  [ 0.22  0.22  0.22] \n",
        "\n",
        "    \n",
        "    Calculation ('Bi2Se3.su', 'static', 4) successfully created\n",
        "    \n",
        "     \n",
        "\n",
        "-- check_kpoints(): Kpoint   mesh is:  [8, 8, 8] \n",
        "\n",
        "-- check_kpoints(): The actual k-spacings are  [ 0.21  0.21  0.21] \n",
        "\n",
        "    \n",
        "    Calculation ('Bi2Se3.su', 'static', 5) successfully created\n",
        "    \n",
        "     \n",
        "\n",
        "-- check_kpoints(): Kpoint   mesh is:  [8, 8, 8] \n",
        "\n",
        "-- check_kpoints(): The actual k-spacings are  [ 0.21  0.21  0.21] \n",
        "\n",
        "    \n",
        "    Calculation ('Bi2Se3.su', 'static', 6) successfully created\n",
        "    \n",
        "     \n",
        "\n",
        "-- check_kpoints(): Kpoint   mesh is:  [8, 8, 8] \n",
        "\n",
        "-- check_kpoints(): The actual k-spacings are  [ 0.21  0.21  0.21] \n",
        "\n",
        "-- Attention! ngkpt =  [8, 8, 8]  is adopted from struct_des which you provided for it  Bi2Se3.su  and kspacing =  0.235 \n",
        "\n",
        "    \n",
        "    Calculation ('Bi2Se3.su', 'static', 7) successfully created\n",
        "    \n",
        "     \n",
        "\n"
       ]
      },
      {
       "metadata": {},
       "output_type": "pyout",
       "prompt_number": 13,
       "text": [
        "'Bi2Se3.su'"
       ]
      }
     ],
     "prompt_number": 13
    },
    {
     "cell_type": "code",
     "collapsed": false,
     "input": [
      "res_loop('Bi2Se3.su', 'static', list(range(1,8))+[100], up = 'up', show = 'fit', analys_type = 'fit_a')"
     ],
     "language": "python",
     "metadata": {},
     "outputs": [
      {
       "output_type": "stream",
       "stream": "stdout",
       "text": [
        "-- name                          |  energy(eV)|    Vector lenghts (A)   | Stresses (MPa)     | N MD, N SCF    \n",
        "-- Bi2Se3.su.static.1            |  -19.4364  |      9.75;9.75;9.75     | 11309,11321,10881  |   1,12, 12    \n",
        "-- Bi2Se3.su.static.2            |  -19.8495  |      9.92;9.92;9.92     |  6357,6365,6100    |   1,13, 13    \n"
       ]
      },
      {
       "output_type": "stream",
       "stream": "stdout",
       "text": [
        "-- Bi2Se3.su.static.3            |  -20.0802  |    10.09;10.09;10.09    |  2443,2446,2330    |   1,13, 13    \n"
       ]
      },
      {
       "output_type": "stream",
       "stream": "stdout",
       "text": [
        "-- Bi2Se3.su.static.4            |  -20.1543  |    10.27;10.27;10.27    |  -680,-680,-657    |   1,13, 13    \n"
       ]
      },
      {
       "output_type": "stream",
       "stream": "stdout",
       "text": [
        "-- Bi2Se3.su.static.5            |  -20.0988  |    10.44;10.44;10.44    | -3124,-3126,-3036  |   1,13, 13    \n"
       ]
      },
      {
       "output_type": "stream",
       "stream": "stdout",
       "text": [
        "-- Bi2Se3.su.static.6            |  -19.9327  |    10.61;10.61;10.61    | -5000,-5005,-4839  |   1,13, 13    \n"
       ]
      },
      {
       "output_type": "stream",
       "stream": "stdout",
       "text": [
        "-- Bi2Se3.su.static.7            |  -19.6756  |    10.78;10.78;10.78    | -6438,-6444,-6214  |   1,13, 13    \n"
       ]
      },
      {
       "output_type": "stream",
       "stream": "stdout",
       "text": [
        "-- Bi2Se3.su.static.100          |  -20.1544  |    10.27;10.27;10.27    |  -799,-800,-774    |   1,13, 13    \n"
       ]
      },
      {
       "output_type": "stream",
       "stream": "stdout",
       "text": [
        "    \n",
        "                v0 = 152.1046628510272 A^3\n",
        "                a0 = 5.338027939754267 A\n",
        "                E0 = -20.15465796451467 eV\n",
        "                B  = 0.34134080321747523 eV/A^3 \n",
        "\n"
       ]
      },
      {
       "metadata": {},
       "output_type": "display_data",
       "png": "[encoded data removed]",
       "text": [
        "<matplotlib.figure.Figure at 0x7f86985d51d0>"
       ]
      },
      {
       "output_type": "stream",
       "stream": "stdout",
       "text": [
        "-- fit results are saved in  figs/Bi2Se3.su.static.100.eps \n",
        "\n"
       ]
      },
      {
       "metadata": {},
       "output_type": "pyout",
       "prompt_number": 14,
       "text": [
        "(['Bi2Se3.su.static.100          |  -20.1544  |    10.27;10.27;10.27    |  -799,-800,-774    |   1,13, 13   '],\n",
        " [])"
       ]
      }
     ],
     "prompt_number": 14
    },
    {
     "cell_type": "markdown",
     "metadata": {},
     "source": [
      "###Inherit optimized structure and relax atomic positions"
     ]
    },
    {
     "cell_type": "code",
     "collapsed": false,
     "input": [
      "add_loop('Bi2Se3.su', 'ion_relax', 100, inherit_option = 'full', run = 0, override = 1)"
     ],
     "language": "python",
     "metadata": {},
     "outputs": [
      {
       "output_type": "stream",
       "stream": "stdout",
       "text": [
        "    Warning! final xred and xcart was used from OUTCAR and have low precision. Please use CONTCAR file \n",
        "     \n",
        "\n",
        "-- Warning! File ./Bi2Se3/Bi2Se3.su.if/Bi2Se3.su.if.inherit.full.100.geo was replaced \n",
        "\n",
        "-- inherit_ngkpt(): the k-grid from Bi2Se3.su was inherited to Bi2Se3.su.if \n",
        "\n",
        "-- check_kpoints(): Kpoint   mesh is:  [8, 8, 8] \n",
        "\n",
        "-- check_kpoints(): The actual k-spacings are  [ 0.22  0.22  0.22] \n",
        "\n",
        "-- Attention! ngkpt =  [8, 8, 8]  is adopted from struct_des which you provided for it  Bi2Se3.su.if  and kspacing =  0.235 \n",
        "\n",
        "    \n",
        "    Calculation ('Bi2Se3.su.if', 'static', 100) successfully created\n",
        "    \n",
        "     \n",
        "\n"
       ]
      },
      {
       "metadata": {},
       "output_type": "pyout",
       "prompt_number": 6,
       "text": [
        "'Bi2Se3.su.if'"
       ]
      }
     ],
     "prompt_number": 6
    },
    {
     "cell_type": "code",
     "collapsed": false,
     "input": [
      "res_loop('Bi2Se3.su.if', ['ion_relax'], [100], show = 'fo'  ) #show forces"
     ],
     "language": "python",
     "metadata": {},
     "outputs": [
      {
       "output_type": "stream",
       "stream": "stdout",
       "text": [
        "    \n",
        "    \n",
        "    Max. F. tot  (meV/A) = \n",
        "    [78]; \n",
        "\n",
        "-- name                          |  energy(eV)|    Vector lenghts (A)   | Stresses (MPa)     | N MD, N SCF    \n",
        "-- Bi2Se3.su.if.static.100       |  -20.1544  |    10.27;10.27;10.27    |  -799,-800,-774    |   1,13, 13    \n"
       ]
      },
      {
       "metadata": {},
       "output_type": "pyout",
       "prompt_number": 7,
       "text": [
        "(['Bi2Se3.su.if.static.100       |  -20.1544  |    10.27;10.27;10.27    |  -799,-800,-774    |   1,13, 13   '],\n",
        " [])"
       ]
      }
     ],
     "prompt_number": 7
    },
    {
     "cell_type": "markdown",
     "metadata": {},
     "source": [
      "###Inherit structure and create supercell 222"
     ]
    },
    {
     "cell_type": "code",
     "collapsed": false,
     "input": [
      "add_loop('Bi2Se3.su', 'static', 100, inherit_option = 'supercell', run = 0, mul_matrix = [[2,0,0],[0,2,0],[0,0,2]])"
     ],
     "language": "python",
     "metadata": {},
     "outputs": [
      {
       "output_type": "stream",
       "stream": "stdout",
       "text": [
        "--        inherit_icalc(): starting supercell mode ... \n",
        "\n",
        "rprimd of supercell\n",
        " [[  8.2   0.   18.8]\n",
        " [  3.9   7.2  18.8]\n",
        " [  0.    0.   20.5]]\n",
        "The supercell should contain  40.0 40 atoms\n",
        "Number of atoms ... OK"
       ]
      },
      {
       "output_type": "stream",
       "stream": "stdout",
       "text": [
        "\n",
        "-- check_kpoints(): Kpoint   mesh is:  [4, 4, 4] \n",
        "\n"
       ]
      },
      {
       "output_type": "stream",
       "stream": "stdout",
       "text": [
        "-- check_kpoints(): The actual k-spacings are  [ 0.22  0.22  0.22] \n",
        "\n",
        "-- Attention! ngkpt =  [4, 4, 4]  is adopted from struct_des which you provided for it  Bi2Se3.su.s222  and kspacing =  0.235 \n",
        "\n",
        "    \n",
        "    Calculation ('Bi2Se3.su.s222', 'static', 100) successfully created\n",
        "    \n",
        "     \n",
        "\n"
       ]
      },
      {
       "metadata": {},
       "output_type": "pyout",
       "prompt_number": 4,
       "text": [
        "'Bi2Se3.su.s222'"
       ]
      }
     ],
     "prompt_number": 4
    },
    {
     "cell_type": "markdown",
     "metadata": {},
     "source": [
      "###Write result in compact binary form -  write_database()\n",
      "The function creates several files called calc.gdbm3 and only_calc.gdbm3 in the current folder.\n",
      "On the next run the function read_database() will read them and you can access you results using res_loop() or calc dictionary"
     ]
    },
    {
     "cell_type": "code",
     "collapsed": false,
     "input": [
      "write_database()"
     ],
     "language": "python",
     "metadata": {},
     "outputs": []
    }
   ],
   "metadata": {}
  }
 ]
}
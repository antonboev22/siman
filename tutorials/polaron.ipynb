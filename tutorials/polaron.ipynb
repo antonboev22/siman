{
 "cells": [
  {
   "cell_type": "markdown",
   "metadata": {},
   "source": [
    "### Calculation of polaron migration barriers using linear interpolation\n",
    "In this example we show how to calculate polaron migration barrier on the example of LiFePO4\n"
   ]
  },
  {
   "cell_type": "code",
   "execution_count": 11,
   "metadata": {},
   "outputs": [],
   "source": [
    "from siman.calc_manage import smart_structure_read\n",
    "from siman.geo import interpolate\n"
   ]
  },
  {
   "cell_type": "code",
   "execution_count": 9,
   "metadata": {},
   "outputs": [],
   "source": [
    "st = smart_structure_read('in/POSCAR_LiFePO4_1u_1_end') #read LiFePO4 structure\n",
    "# st.printme()"
   ]
  },
  {
   "cell_type": "code",
   "execution_count": 10,
   "metadata": {},
   "outputs": [
    {
     "name": "stdout",
     "output_type": "stream",
     "text": [
      "-- POSCAR was written to /hdd/home/aksenov/Simulation_wrapper/siman/tutorials/xyz/POSCAR__LiFePO4_1u_1_endpol27 \n",
      "\n",
      "-- POSCAR was written to /hdd/home/aksenov/Simulation_wrapper/siman/tutorials/xyz/POSCAR__LiFePO4_1u_1_endpol28 \n",
      "\n"
     ]
    },
    {
     "data": {
      "text/plain": [
       "'/hdd/home/aksenov/Simulation_wrapper/siman/tutorials/xyz/POSCAR__LiFePO4_1u_1_endpol28'"
      ]
     },
     "execution_count": 10,
     "metadata": {},
     "output_type": "execute_result"
    }
   ],
   "source": [
    "st1 = st.localize_polaron(26,  -0.2) # displace surrounding oxygens by 0.2 A in the direction of iron, corresponding to oxidation\n",
    "st2 = st.localize_polaron(27, -0.2)\n",
    "st1.write_poscar() # write POSCAR to check in jmol that the correct displacement was performed\n",
    "st2.write_poscar()"
   ]
  },
  {
   "cell_type": "code",
   "execution_count": 12,
   "metadata": {},
   "outputs": [
    {
     "name": "stdout",
     "output_type": "stream",
     "text": [
      "-- POSCAR was written to xyz/1.POSCAR \n",
      "\n",
      "-- POSCAR was written to xyz/2.POSCAR \n",
      "\n",
      "-- POSCAR was written to xyz/3.POSCAR \n",
      "\n",
      "-- POSCAR was written to xyz/4.POSCAR \n",
      "\n",
      "-- POSCAR was written to xyz/5.POSCAR \n",
      "\n",
      "-- POSCAR was written to xyz/6.POSCAR \n",
      "\n",
      "-- POSCAR was written to xyz/7.POSCAR \n",
      "\n",
      "-- POSCAR was written to xyz/8.POSCAR \n",
      "\n",
      "-- POSCAR was written to xyz/9.POSCAR \n",
      "\n",
      "-- POSCAR was written to xyz/10.POSCAR \n",
      "\n",
      "-- POSCAR was written to xyz/11.POSCAR \n",
      "\n",
      "-- POSCAR was written to xyz/12.POSCAR \n",
      "\n"
     ]
    },
    {
     "data": {
      "text/plain": [
       "[<siman.core.structure.Structure at 0x7facc7b7b400>,\n",
       " <siman.core.structure.Structure at 0x7facc7a71ba8>,\n",
       " <siman.core.structure.Structure at 0x7fac9b2146d8>,\n",
       " <siman.core.structure.Structure at 0x7fac9b214cc0>,\n",
       " <siman.core.structure.Structure at 0x7fac9b2146a0>,\n",
       " <siman.core.structure.Structure at 0x7fac9b2144e0>,\n",
       " <siman.core.structure.Structure at 0x7fac9b214278>,\n",
       " <siman.core.structure.Structure at 0x7fac9b214b00>,\n",
       " <siman.core.structure.Structure at 0x7fac9b214be0>,\n",
       " <siman.core.structure.Structure at 0x7fac9b214550>,\n",
       " <siman.core.structure.Structure at 0x7fac9b2145c0>,\n",
       " <siman.core.structure.Structure at 0x7fac9b214e10>]"
      ]
     },
     "execution_count": 12,
     "metadata": {},
     "output_type": "execute_result"
    }
   ],
   "source": [
    "# *images* is the number of intermediate structures\n",
    "# *write_poscar* write files to folder *poscar_folder*  \n",
    "interpolate(st1, st2, images = 10, write_poscar = 1, omit_edges = 0, poscar_folder = 'xyz/' ) # create intermediate structures by linerar interpolation between st1 and st2"
   ]
  },
  {
   "cell_type": "markdown",
   "metadata": {},
   "source": [
    "1. Check all intermediate images by opening them simulteniously in Jmol and clicking next frame\n",
    "2. Make a shell script that launches VASP for:\n",
    "   a) for 1.POSCAR, 2.POSCAR ... 12.POSCAR in a loop (forward branch)\n",
    "   b) for 12.POSCAR 11.POSCAR ... 1.POSCAR in a loop (backward branch)\n",
    "3. Plot Total energy vs structure number for forward and backward branches on one figure\n",
    "4. Make sure that  ISTART\t= 1; LWAVE  =  .TRUE.; ICHARG = 0; in your INCAR "
   ]
  }
 ],
 "metadata": {
  "kernelspec": {
   "display_name": "Python 3",
   "language": "python",
   "name": "python3"
  },
  "language_info": {
   "codemirror_mode": {
    "name": "ipython",
    "version": 3
   },
   "file_extension": ".py",
   "mimetype": "text/x-python",
   "name": "python",
   "nbconvert_exporter": "python",
   "pygments_lexer": "ipython3",
   "version": "3.6.9"
  }
 },
 "nbformat": 4,
 "nbformat_minor": 1
}
